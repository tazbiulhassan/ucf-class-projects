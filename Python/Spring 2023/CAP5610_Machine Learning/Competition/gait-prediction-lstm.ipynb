{
 "cells": [
  {
   "cell_type": "markdown",
   "metadata": {},
   "source": [
    "# Import Packages"
   ]
  },
  {
   "cell_type": "code",
   "execution_count": 1,
   "metadata": {
    "execution": {
     "iopub.execute_input": "2023-04-17T01:16:41.308886Z",
     "iopub.status.busy": "2023-04-17T01:16:41.307507Z",
     "iopub.status.idle": "2023-04-17T01:16:45.926668Z",
     "shell.execute_reply": "2023-04-17T01:16:45.925422Z",
     "shell.execute_reply.started": "2023-04-17T01:16:41.308800Z"
    },
    "tags": []
   },
   "outputs": [],
   "source": [
    "import warnings\n",
    "warnings.filterwarnings('ignore')\n",
    "\n",
    "import gc\n",
    "import glob\n",
    "import pathlib\n",
    "import numpy as np\n",
    "import pandas as pd\n",
    "from tqdm.auto import tqdm\n",
    "\n",
    "from sklearn import *\n",
    "from sklearn.preprocessing import MinMaxScaler\n",
    "from sklearn.metrics import mean_squared_error, average_precision_score\n",
    "\n",
    "import torch\n",
    "import torch.nn as nn\n",
    "from torch.autograd import Variable\n",
    "\n",
    "import matplotlib.pyplot as plt"
   ]
  },
  {
   "cell_type": "markdown",
   "metadata": {},
   "source": [
    "# Data Wrangling"
   ]
  },
  {
   "cell_type": "code",
   "execution_count": 30,
   "metadata": {
    "execution": {
     "iopub.execute_input": "2023-04-17T01:26:44.716360Z",
     "iopub.status.busy": "2023-04-17T01:26:44.715646Z",
     "iopub.status.idle": "2023-04-17T01:26:44.810247Z",
     "shell.execute_reply": "2023-04-17T01:26:44.808995Z",
     "shell.execute_reply.started": "2023-04-17T01:26:44.716316Z"
    },
    "tags": []
   },
   "outputs": [],
   "source": [
    "##### path to data #####\n",
    "path = '../data/raw/'\n",
    "\n",
    "path_train_tdcsfog = glob.glob(path + 'train/tdcsfog/**')\n",
    "path_train_defog = glob.glob(path + 'train/defog/**')\n",
    "\n",
    "path_test = glob.glob(path + 'test/**/**')"
   ]
  },
  {
   "cell_type": "code",
   "execution_count": 31,
   "metadata": {
    "execution": {
     "iopub.execute_input": "2023-04-17T01:26:45.681988Z",
     "iopub.status.busy": "2023-04-17T01:26:45.681526Z",
     "iopub.status.idle": "2023-04-17T01:26:45.723027Z",
     "shell.execute_reply": "2023-04-17T01:26:45.721857Z",
     "shell.execute_reply.started": "2023-04-17T01:26:45.681946Z"
    }
   },
   "outputs": [],
   "source": [
    "##### load metadata #####\n",
    "df_tdcsfog_metadata = pd.read_csv(path + 'tdcsfog_metadata.csv')\n",
    "df_defog_metadata = pd.read_csv(path + 'defog_metadata.csv')\n",
    "\n",
    "df_tdcsfog_metadata['Module'] = 'tdcsfog'; df_defog_metadata['Module'] = 'defog'\n",
    "\n",
    "df_metadata = pd.concat([df_tdcsfog_metadata, df_defog_metadata])\n",
    "\n",
    "# print(df_metadata.shape)\n",
    "# df_metadata.head()"
   ]
  },
  {
   "cell_type": "code",
   "execution_count": 32,
   "metadata": {
    "execution": {
     "iopub.execute_input": "2023-04-17T01:26:46.564461Z",
     "iopub.status.busy": "2023-04-17T01:26:46.564083Z",
     "iopub.status.idle": "2023-04-17T01:26:46.648042Z",
     "shell.execute_reply": "2023-04-17T01:26:46.647028Z",
     "shell.execute_reply.started": "2023-04-17T01:26:46.564430Z"
    }
   },
   "outputs": [],
   "source": [
    "##### load subjects data #####\n",
    "df_subjects = pd.read_csv(path + 'subjects.csv')\n",
    "\n",
    "# print(df_subjects.shape)\n",
    "# df_subjects.head()\n",
    "\n",
    "\n",
    "##### process subjects data #####\n",
    "df_subjects = df_subjects.fillna(0).groupby('Subject').median()\n",
    "df_subjects = df_subjects.reset_index()\n",
    "# df_subjects.rename(columns={'Subject':'Id'}, inplace=True)\n",
    "\n",
    "df_subjects['s_kmeans'] = cluster.KMeans(n_clusters=10, random_state=3).fit_predict(df_subjects[df_subjects.columns[1:]])\n",
    "\n",
    "df_subjects=df_subjects.rename(columns={'Visit':'s_Visit', 'Age':'s_Age', 'YearsSinceDx':'s_YearsSinceDx', 'UPDRSIII_On':'s_UPDRSIII_On', \n",
    "                                        'UPDRSIII_Off':'s_UPDRSIII_Off', 'NFOGQ':'s_NFOGQ'})\n",
    "\n",
    "# print(df_subjects.shape)\n",
    "# df_subjects.head()"
   ]
  },
  {
   "cell_type": "code",
   "execution_count": 33,
   "metadata": {
    "execution": {
     "iopub.execute_input": "2023-04-17T01:26:47.451733Z",
     "iopub.status.busy": "2023-04-17T01:26:47.451332Z",
     "iopub.status.idle": "2023-04-17T01:26:47.546255Z",
     "shell.execute_reply": "2023-04-17T01:26:47.545218Z",
     "shell.execute_reply.started": "2023-04-17T01:26:47.451700Z"
    }
   },
   "outputs": [],
   "source": [
    "##### load tasks data #####\n",
    "df_tasks = pd.read_csv(path + 'tasks.csv')\n",
    "\n",
    "# print(df_tasks.shape)\n",
    "# df_tasks.head()\n",
    "\n",
    "\n",
    "##### process tasks data #####\n",
    "df_tasks['Duration'] = df_tasks['End'] - df_tasks['Begin']\n",
    "df_tasks = pd.pivot_table(df_tasks, \n",
    "                       values=['Duration'], index=['Id'], columns=['Task'], aggfunc='sum', fill_value=0)\n",
    "df_tasks.columns = [c[-1] for c in df_tasks.columns]\n",
    "df_tasks = df_tasks.reset_index()\n",
    "\n",
    "df_tasks['t_kmeans'] = cluster.KMeans(n_clusters=10, random_state=3).fit_predict(df_tasks[df_tasks.columns[1:]])\n",
    "\n",
    "# print(df_tasks.shape)\n",
    "# df_tasks.head()"
   ]
  },
  {
   "cell_type": "code",
   "execution_count": 34,
   "metadata": {
    "execution": {
     "iopub.execute_input": "2023-04-17T01:26:48.363884Z",
     "iopub.status.busy": "2023-04-17T01:26:48.363433Z",
     "iopub.status.idle": "2023-04-17T01:26:48.379297Z",
     "shell.execute_reply": "2023-04-17T01:26:48.378097Z",
     "shell.execute_reply.started": "2023-04-17T01:26:48.363845Z"
    }
   },
   "outputs": [],
   "source": [
    "##### merge metadata and subjects data #####\n",
    "df_metadata_complex = df_metadata.merge(df_subjects, \n",
    "                                        how='left', on='Subject').copy()\n",
    "df_metadata_complex['Medication'] = df_metadata_complex['Medication'].factorize()[0]\n",
    "\n",
    "# print(df_metadata_complex.shape)\n",
    "# df_metadata_complex.head()"
   ]
  },
  {
   "cell_type": "code",
   "execution_count": 35,
   "metadata": {
    "execution": {
     "iopub.execute_input": "2023-04-17T01:26:49.354118Z",
     "iopub.status.busy": "2023-04-17T01:26:49.353709Z",
     "iopub.status.idle": "2023-04-17T01:26:49.363637Z",
     "shell.execute_reply": "2023-04-17T01:26:49.362398Z",
     "shell.execute_reply.started": "2023-04-17T01:26:49.354084Z"
    }
   },
   "outputs": [],
   "source": [
    "def reader(file):\n",
    "    try:\n",
    "        df = pd.read_csv(file, \n",
    "                         usecols=['Time', 'AccV', 'AccML', 'AccAP', 'StartHesitation', 'Turn', 'Walking'])\n",
    "\n",
    "        df['Id'] = file.split('/')[-1].split('.')[0]; df['Module'] = pathlib.Path(file).parts[-2]\n",
    "        \n",
    "        df['TimeFrac']=(df.index/df.index.max()).values\n",
    "\n",
    "        df = pd.merge(df, df_tasks[['Id', 't_kmeans']], \n",
    "                      how='left', on='Id').fillna(-1)\n",
    "        df = pd.merge(df, df_metadata_complex[['Id', 'Subject'] + ['Visit', 'Test', 'Medication', 's_kmeans']], \n",
    "                      how='left', on='Id').fillna(-1)\n",
    "\n",
    "        return df\n",
    "    except: \n",
    "        pass"
   ]
  },
  {
   "cell_type": "code",
   "execution_count": 8,
   "metadata": {
    "execution": {
     "iopub.execute_input": "2023-04-17T01:16:46.006767Z",
     "iopub.status.busy": "2023-04-17T01:16:46.006294Z",
     "iopub.status.idle": "2023-04-17T01:16:46.017170Z",
     "shell.execute_reply": "2023-04-17T01:16:46.016106Z",
     "shell.execute_reply.started": "2023-04-17T01:16:46.006720Z"
    }
   },
   "outputs": [],
   "source": [
    "##### load train data #####\n",
    "df_train_tdcsfog = pd.concat([reader(file=file) for file in tqdm(path_train_tdcsfog)])\n",
    "df_train_defog = pd.concat([reader(file=file) for file in tqdm(path_train_defog)])\n",
    "\n",
    "df_train = pd.concat([df_train_tdcsfog, df_train_defog]).fillna(0)\n",
    "\n",
    "# print(df_train.shape)\n",
    "# df_train.head()"
   ]
  },
  {
   "cell_type": "code",
   "execution_count": 9,
   "metadata": {
    "execution": {
     "iopub.execute_input": "2023-04-17T01:16:46.018433Z",
     "iopub.status.busy": "2023-04-17T01:16:46.018103Z",
     "iopub.status.idle": "2023-04-17T01:16:46.031349Z",
     "shell.execute_reply": "2023-04-17T01:16:46.030097Z",
     "shell.execute_reply.started": "2023-04-17T01:16:46.018404Z"
    }
   },
   "outputs": [],
   "source": [
    "# del(df_train_tdcsfog); del(df_train_defog)\n",
    "# gc.collect()"
   ]
  },
  {
   "cell_type": "code",
   "execution_count": 10,
   "metadata": {
    "execution": {
     "iopub.execute_input": "2023-04-17T01:16:46.037486Z",
     "iopub.status.busy": "2023-04-17T01:16:46.036629Z",
     "iopub.status.idle": "2023-04-17T01:16:46.044987Z",
     "shell.execute_reply": "2023-04-17T01:16:46.043900Z",
     "shell.execute_reply.started": "2023-04-17T01:16:46.037446Z"
    }
   },
   "outputs": [],
   "source": [
    "# cols = [c for c in df_train.columns if c not in ['Id', 'Subject', 'Module', 'Time', 'StartHesitation', 'Turn' , 'Walking', 'Valid', 'Task', 'Event']]\n",
    "# pcols = ['StartHesitation', 'Turn' , 'Walking']; scols = ['Id', 'StartHesitation', 'Turn' , 'Walking']\n",
    "\n",
    "print(df_train.shape)\n",
    "df_train.head()"
   ]
  },
  {
   "cell_type": "markdown",
   "metadata": {},
   "source": [
    "# Data Preparation"
   ]
  },
  {
   "cell_type": "code",
   "execution_count": 11,
   "metadata": {
    "execution": {
     "iopub.execute_input": "2023-04-17T01:16:46.047638Z",
     "iopub.status.busy": "2023-04-17T01:16:46.046659Z",
     "iopub.status.idle": "2023-04-17T01:16:46.065777Z",
     "shell.execute_reply": "2023-04-17T01:16:46.064887Z",
     "shell.execute_reply.started": "2023-04-17T01:16:46.047589Z"
    }
   },
   "outputs": [],
   "source": [
    "def create_sequences(X, y, window_size):\n",
    "    \n",
    "    list_X, list_y = list(), list()\n",
    "    \n",
    "    for i in range(len(X)):\n",
    "        end_ix = i + window_size\n",
    "        \n",
    "        if end_ix >= len(X): break\n",
    "\n",
    "        seq_x, seq_y = X[i:end_ix], y[end_ix - 1]      \n",
    "        list_X.append(seq_x); list_y.append(seq_y)\n",
    "            \n",
    "    \n",
    "    return np.array(list_X), np.array(list_y) "
   ]
  },
  {
   "cell_type": "code",
   "execution_count": 36,
   "metadata": {
    "execution": {
     "iopub.execute_input": "2023-04-17T01:26:52.828756Z",
     "iopub.status.busy": "2023-04-17T01:26:52.828361Z",
     "iopub.status.idle": "2023-04-17T01:26:52.837588Z",
     "shell.execute_reply": "2023-04-17T01:26:52.836548Z",
     "shell.execute_reply.started": "2023-04-17T01:26:52.828723Z"
    }
   },
   "outputs": [],
   "source": [
    "def split_data(data, train_size, window_size, outcome, keep_columns):\n",
    "    \n",
    "    train_len = int(len(data) * train_size)\n",
    "    validation_len = len(data) - train_len\n",
    "    \n",
    "    train = data[:train_len]; validation = data[train_len:]  \n",
    "    \n",
    "    y_train = train[outcome]; y_validation = validation[outcome]\n",
    "    y_train, y_validation = y_train.to_numpy(), y_validation.to_numpy()\n",
    "    \n",
    "    X_train = train[keep_columns]; X_validation = validation[keep_columns]\n",
    "    \n",
    "    scaler = MinMaxScaler(feature_range=(-1, 1)) \n",
    "    X_train = scaler.fit_transform(X_train); X_validation = scaler.fit_transform(X_validation)\n",
    "\n",
    "    # train = np.hstack((X_train, y_train)); validation = np.hstack((X_validation, y_validation))\n",
    "\n",
    "    X_train, y_train = create_sequences(X=X_train, y=y_train, window_size=window_size)\n",
    "    X_validation, y_validation = create_sequences(X=X_validation, y=y_validation, window_size=window_size)\n",
    "    \n",
    "    return X_train, X_validation, y_train, y_validation"
   ]
  },
  {
   "cell_type": "code",
   "execution_count": 37,
   "metadata": {
    "execution": {
     "iopub.execute_input": "2023-04-17T01:26:53.901573Z",
     "iopub.status.busy": "2023-04-17T01:26:53.901099Z",
     "iopub.status.idle": "2023-04-17T01:26:53.912547Z",
     "shell.execute_reply": "2023-04-17T01:26:53.911073Z",
     "shell.execute_reply.started": "2023-04-17T01:26:53.901533Z"
    }
   },
   "outputs": [],
   "source": [
    "def get_data(data, train_size, window_size, id_column, outcome, keep_columns):\n",
    "    \n",
    "    list_unique_id = list(data[id_column].unique())\n",
    "    X_train, X_validation, y_train, y_validation = list(), list(), list(), list()\n",
    "\n",
    "    for unique_id in tqdm(list_unique_id):\n",
    "        data_id = data[data[id_column] == unique_id]\n",
    "\n",
    "        X_train_id, X_validation_id, y_train_id, y_validation_id = split_data(data=data_id, \n",
    "                                                                              train_size=train_size, \n",
    "                                                                              window_size=window_size, \n",
    "                                                                              outcome=outcome, \n",
    "                                                                              keep_columns=keep_columns)\n",
    "\n",
    "        X_train.append(X_train_id); X_validation.append(X_validation_id)\n",
    "        y_train.append(y_train_id); y_validation.append(y_validation_id)\n",
    "            \n",
    "    \n",
    "    X_train = np.vstack(X_train); X_validation = np.vstack(X_validation)\n",
    "    y_train = np.vstack(y_train); y_validation = np.vstack(y_validation)  \n",
    "\n",
    "    return torch.Tensor(X_train), torch.Tensor(X_validation), torch.Tensor(y_train), torch.Tensor(y_validation)"
   ]
  },
  {
   "cell_type": "code",
   "execution_count": 14,
   "metadata": {
    "execution": {
     "iopub.execute_input": "2023-04-17T01:16:46.136564Z",
     "iopub.status.busy": "2023-04-17T01:16:46.135849Z",
     "iopub.status.idle": "2023-04-17T01:16:46.157126Z",
     "shell.execute_reply": "2023-04-17T01:16:46.156086Z",
     "shell.execute_reply.started": "2023-04-17T01:16:46.136529Z"
    }
   },
   "outputs": [],
   "source": [
    "X_train, X_validation, y_train, y_validation = get_data(data=df_train,\n",
    "                                                        train_size=0.75,\n",
    "                                                        window_size=1,\n",
    "                                                        id_column='Id', outcome = ['StartHesitation', 'Turn', 'Walking'], \n",
    "                                                        keep_columns=['AccV', 'AccML', 'AccAP']) "
   ]
  },
  {
   "cell_type": "code",
   "execution_count": 15,
   "metadata": {
    "execution": {
     "iopub.execute_input": "2023-04-17T01:16:46.158490Z",
     "iopub.status.busy": "2023-04-17T01:16:46.158144Z",
     "iopub.status.idle": "2023-04-17T01:16:46.172761Z",
     "shell.execute_reply": "2023-04-17T01:16:46.171751Z",
     "shell.execute_reply.started": "2023-04-17T01:16:46.158460Z"
    }
   },
   "outputs": [],
   "source": [
    "# torch.save(X_train, '../data/processed/X_train.pt'); torch.save(y_train, '../data/processed/y_train.pt')\n",
    "# torch.save(X_validation, '../data/processed/X_validation.pt'); torch.save(y_validation, '../data/processed/y_validation.pt')"
   ]
  },
  {
   "cell_type": "code",
   "execution_count": 16,
   "metadata": {
    "execution": {
     "iopub.execute_input": "2023-04-17T01:16:46.175018Z",
     "iopub.status.busy": "2023-04-17T01:16:46.174595Z",
     "iopub.status.idle": "2023-04-17T01:16:48.768125Z",
     "shell.execute_reply": "2023-04-17T01:16:48.766813Z",
     "shell.execute_reply.started": "2023-04-17T01:16:46.174982Z"
    }
   },
   "outputs": [],
   "source": [
    "# X_train = torch.load('../data/processed/X_train.pt'); y_train = torch.load('../data/processed/y_train.pt')\n",
    "# X_validation = torch.load('../data/processed/X_validation.pt'); y_validation = torch.load('../data/processed/y_validation.pt')"
   ]
  },
  {
   "cell_type": "code",
   "execution_count": 17,
   "metadata": {
    "execution": {
     "iopub.execute_input": "2023-04-17T01:16:48.770709Z",
     "iopub.status.busy": "2023-04-17T01:16:48.769670Z",
     "iopub.status.idle": "2023-04-17T01:16:48.925782Z",
     "shell.execute_reply": "2023-04-17T01:16:48.924280Z",
     "shell.execute_reply.started": "2023-04-17T01:16:48.770660Z"
    }
   },
   "outputs": [
    {
     "data": {
      "text/plain": [
       "132"
      ]
     },
     "execution_count": 17,
     "metadata": {},
     "output_type": "execute_result"
    }
   ],
   "source": [
    "# del(df_train)\n",
    "gc.collect()"
   ]
  },
  {
   "cell_type": "markdown",
   "metadata": {},
   "source": [
    "# Modeling"
   ]
  },
  {
   "cell_type": "markdown",
   "metadata": {},
   "source": [
    "## Training"
   ]
  },
  {
   "cell_type": "code",
   "execution_count": 19,
   "metadata": {
    "execution": {
     "iopub.execute_input": "2023-04-17T01:16:48.941484Z",
     "iopub.status.busy": "2023-04-17T01:16:48.941019Z",
     "iopub.status.idle": "2023-04-17T01:16:48.961376Z",
     "shell.execute_reply": "2023-04-17T01:16:48.959913Z",
     "shell.execute_reply.started": "2023-04-17T01:16:48.941437Z"
    }
   },
   "outputs": [
    {
     "name": "stdout",
     "output_type": "stream",
     "text": [
      "cpu\n"
     ]
    }
   ],
   "source": [
    "device = torch.device('cuda:0' if torch.cuda.is_available() else 'cpu') \n",
    "print(device)"
   ]
  },
  {
   "cell_type": "code",
   "execution_count": 20,
   "metadata": {
    "execution": {
     "iopub.execute_input": "2023-04-17T01:16:48.963482Z",
     "iopub.status.busy": "2023-04-17T01:16:48.963033Z",
     "iopub.status.idle": "2023-04-17T01:16:48.976624Z",
     "shell.execute_reply": "2023-04-17T01:16:48.975514Z",
     "shell.execute_reply.started": "2023-04-17T01:16:48.963436Z"
    }
   },
   "outputs": [],
   "source": [
    "class LSTM(nn.Module):\n",
    "\n",
    "    def __init__(self, num_classes, input_size, hidden_size, num_layers, seq_length, batch_size):\n",
    "        super(LSTM, self).__init__()\n",
    "        \n",
    "        self.seq_length = seq_length\n",
    "        self.num_layers = num_layers\n",
    "        self.input_size = input_size\n",
    "        self.batch_size = batch_size\n",
    "        self.num_classes = num_classes\n",
    "        self.hidden_size = hidden_size\n",
    "        \n",
    "        self.lstm = nn.LSTM(input_size=input_size, hidden_size=hidden_size, num_layers=num_layers, batch_first=True)\n",
    "        \n",
    "        self.fc = nn.Linear(hidden_size, num_classes)\n",
    "        self.relu = nn.ReLU()\n",
    "        \n",
    "        \n",
    "    def forward(self, x):\n",
    "        \n",
    "        h_in = Variable(torch.zeros(self.num_layers, x.size(0), self.hidden_size)).to(device)\n",
    "        c_in = Variable(torch.zeros(self.num_layers, x.size(0), self.hidden_size)).to(device)\n",
    "        \n",
    "        # propagate input through LSTM\n",
    "        out, (h_out, c_out) = self.lstm(x, (h_in, c_in))\n",
    "        \n",
    "        h_out = h_out.view(-1, self.hidden_size)\n",
    "        output = self.relu(h_out)        \n",
    "        output = self.fc(h_out)\n",
    "        \n",
    "        return output"
   ]
  },
  {
   "cell_type": "code",
   "execution_count": 21,
   "metadata": {
    "execution": {
     "iopub.execute_input": "2023-04-17T01:16:48.978611Z",
     "iopub.status.busy": "2023-04-17T01:16:48.978125Z",
     "iopub.status.idle": "2023-04-17T01:16:48.993408Z",
     "shell.execute_reply": "2023-04-17T01:16:48.992033Z",
     "shell.execute_reply.started": "2023-04-17T01:16:48.978566Z"
    }
   },
   "outputs": [],
   "source": [
    "num_epochs = 50\n",
    "learning_rate = 0.0001\n",
    "\n",
    "input_size = 3; hidden_size = 32; num_classes = 3 \n",
    "num_layers = 1 "
   ]
  },
  {
   "cell_type": "code",
   "execution_count": 22,
   "metadata": {
    "execution": {
     "iopub.execute_input": "2023-04-17T01:16:48.995612Z",
     "iopub.status.busy": "2023-04-17T01:16:48.995160Z",
     "iopub.status.idle": "2023-04-17T01:16:49.029649Z",
     "shell.execute_reply": "2023-04-17T01:16:49.028198Z",
     "shell.execute_reply.started": "2023-04-17T01:16:48.995580Z"
    }
   },
   "outputs": [],
   "source": [
    "lstm = LSTM(num_classes, input_size, hidden_size, num_layers, seq_length=1, batch_size=100000).to(device)\n",
    "\n",
    "loss = nn.MSELoss()\n",
    "optimizer = torch.optim.Adam(lstm.parameters(), lr=learning_rate)"
   ]
  },
  {
   "cell_type": "code",
   "execution_count": 23,
   "metadata": {
    "execution": {
     "iopub.execute_input": "2023-04-17T01:16:49.031939Z",
     "iopub.status.busy": "2023-04-17T01:16:49.031419Z",
     "iopub.status.idle": "2023-04-17T01:25:38.421479Z",
     "shell.execute_reply": "2023-04-17T01:25:38.419151Z",
     "shell.execute_reply.started": "2023-04-17T01:16:49.031885Z"
    }
   },
   "outputs": [
    {
     "data": {
      "application/vnd.jupyter.widget-view+json": {
       "model_id": "d329b463afbd42baa784fde1bcf925a8",
       "version_major": 2,
       "version_minor": 0
      },
      "text/plain": [
       "  0%|          | 0/10 [00:00<?, ?it/s]"
      ]
     },
     "metadata": {},
     "output_type": "display_data"
    },
    {
     "name": "stdout",
     "output_type": "stream",
     "text": [
      "Epoch: 0, loss: 0.25151\n",
      "Epoch: 1, loss: 0.25136\n",
      "Epoch: 2, loss: 0.25120\n",
      "Epoch: 3, loss: 0.25104\n",
      "Epoch: 4, loss: 0.25088\n",
      "Epoch: 5, loss: 0.25073\n",
      "Epoch: 6, loss: 0.25057\n",
      "Epoch: 7, loss: 0.25041\n",
      "Epoch: 8, loss: 0.25026\n",
      "Epoch: 9, loss: 0.25010\n"
     ]
    }
   ],
   "source": [
    "for epoch in tqdm(range(num_epochs)):\n",
    "    y_output = lstm.forward(X_train.to(device))\n",
    "    \n",
    "    optimizer.zero_grad()\n",
    "    \n",
    "    rmse_loss = torch.sqrt(loss(y_output, y_train.to(device)))\n",
    "    rmse_loss.backward()\n",
    "    \n",
    "    optimizer.step()\n",
    "\n",
    "    print('Epoch: %d, loss: %1.5f' % (epoch, rmse_loss.item()))"
   ]
  },
  {
   "cell_type": "code",
   "execution_count": 24,
   "metadata": {
    "execution": {
     "iopub.execute_input": "2023-04-17T01:25:38.424615Z",
     "iopub.status.busy": "2023-04-17T01:25:38.424182Z",
     "iopub.status.idle": "2023-04-17T01:25:46.991581Z",
     "shell.execute_reply": "2023-04-17T01:25:46.990110Z",
     "shell.execute_reply.started": "2023-04-17T01:25:38.424578Z"
    }
   },
   "outputs": [],
   "source": [
    "y_validation_proba = lstm(X_validation.to(device)) "
   ]
  },
  {
   "cell_type": "code",
   "execution_count": 25,
   "metadata": {
    "execution": {
     "iopub.execute_input": "2023-04-17T01:25:46.993773Z",
     "iopub.status.busy": "2023-04-17T01:25:46.993409Z",
     "iopub.status.idle": "2023-04-17T01:25:47.369492Z",
     "shell.execute_reply": "2023-04-17T01:25:47.368186Z",
     "shell.execute_reply.started": "2023-04-17T01:25:46.993739Z"
    }
   },
   "outputs": [],
   "source": [
    "y_validation_proba = y_validation_proba.detach().cpu().numpy()\n",
    "y_validation = y_validation.detach().cpu().numpy()"
   ]
  },
  {
   "cell_type": "code",
   "execution_count": 26,
   "metadata": {
    "execution": {
     "iopub.execute_input": "2023-04-17T01:25:47.372200Z",
     "iopub.status.busy": "2023-04-17T01:25:47.371547Z",
     "iopub.status.idle": "2023-04-17T01:25:50.107155Z",
     "shell.execute_reply": "2023-04-17T01:25:50.105910Z",
     "shell.execute_reply.started": "2023-04-17T01:25:47.372160Z"
    }
   },
   "outputs": [
    {
     "name": "stdout",
     "output_type": "stream",
     "text": [
      "0.039122503150026224\n"
     ]
    }
   ],
   "source": [
    "print(metrics.average_precision_score(y_validation, y_validation_proba.clip(0.0, 1.0)))"
   ]
  },
  {
   "cell_type": "markdown",
   "metadata": {},
   "source": [
    "## Prediction"
   ]
  },
  {
   "cell_type": "code",
   "execution_count": 45,
   "metadata": {
    "execution": {
     "iopub.execute_input": "2023-04-17T01:31:44.852116Z",
     "iopub.status.busy": "2023-04-17T01:31:44.851564Z",
     "iopub.status.idle": "2023-04-17T01:31:44.861722Z",
     "shell.execute_reply": "2023-04-17T01:31:44.860454Z",
     "shell.execute_reply.started": "2023-04-17T01:31:44.852061Z"
    }
   },
   "outputs": [],
   "source": [
    "def reader(file):\n",
    "    try:\n",
    "        df = pd.read_csv(file)\n",
    "        df.set_index('Time', drop=True, inplace=True)\n",
    "\n",
    "        df['Id'] = file.split('/')[-1].split('.')[0]\n",
    "        df['TimeFrac'] = (df.index/df.index.max()).values\n",
    "\n",
    "        df = pd.merge(df, df_tasks[['Id', 't_kmeans']], \n",
    "                      how='left', on='Id').fillna(-1)\n",
    "        df = pd.merge(df, df_metadata_complex[['Id', 'Subject'] + ['Visit', 'Test', 'Medication', 's_kmeans']], \n",
    "                      how='left', on='Id').fillna(-1)\n",
    "\n",
    "        return df\n",
    "    except: \n",
    "        pass\n",
    "\n",
    "    \n",
    "df_test = pd.concat([reader(file=file) for file in tqdm(path_test)])"
   ]
  },
  {
   "cell_type": "code",
   "execution_count": 156,
   "metadata": {
    "execution": {
     "iopub.execute_input": "2023-04-17T02:10:31.704363Z",
     "iopub.status.busy": "2023-04-17T02:10:31.703924Z",
     "iopub.status.idle": "2023-04-17T02:10:31.737669Z",
     "shell.execute_reply": "2023-04-17T02:10:31.736677Z",
     "shell.execute_reply.started": "2023-04-17T02:10:31.704325Z"
    }
   },
   "outputs": [],
   "source": [
    "df_time = pd.DataFrame(df_test.index, columns=['Time'])\n",
    "df_subject = pd.DataFrame(df_test.Subject, columns=['Subject'])\n",
    "\n",
    "df_test = df_test[['AccV', 'AccML', 'AccAP']]\n",
    "\n",
    "scaler = MinMaxScaler(feature_range=(-1, 1)) \n",
    "X_test = scaler.fit_transform(df_test)"
   ]
  },
  {
   "cell_type": "code",
   "execution_count": 158,
   "metadata": {
    "execution": {
     "iopub.execute_input": "2023-04-17T02:10:35.578064Z",
     "iopub.status.busy": "2023-04-17T02:10:35.577625Z",
     "iopub.status.idle": "2023-04-17T02:10:35.587007Z",
     "shell.execute_reply": "2023-04-17T02:10:35.585151Z",
     "shell.execute_reply.started": "2023-04-17T02:10:35.578028Z"
    }
   },
   "outputs": [],
   "source": [
    "def create_sequences(X, window_size):\n",
    "    \n",
    "    list_X = []\n",
    "    \n",
    "    for i in range(len(X)):\n",
    "        end_ix = i + window_size\n",
    "        \n",
    "        if end_ix > len(X): break\n",
    "\n",
    "        seq_x = X[i:end_ix]     \n",
    "        list_X.append(seq_x)\n",
    "            \n",
    "    \n",
    "    return np.array(list_X)\n",
    "\n",
    "\n",
    "X_test = create_sequences(X=X_test, window_size=1)\n",
    "X_test = torch.Tensor(X_test)"
   ]
  },
  {
   "cell_type": "code",
   "execution_count": 160,
   "metadata": {
    "execution": {
     "iopub.execute_input": "2023-04-17T02:10:38.873742Z",
     "iopub.status.busy": "2023-04-17T02:10:38.873324Z",
     "iopub.status.idle": "2023-04-17T02:10:39.476456Z",
     "shell.execute_reply": "2023-04-17T02:10:39.475424Z",
     "shell.execute_reply.started": "2023-04-17T02:10:38.873709Z"
    }
   },
   "outputs": [],
   "source": [
    "y_test_proba = lstm(X_test.to(device)) \n",
    "# y_test_proba = y_test_proba.clip(0.0, 1.0)\n",
    "\n",
    "y_test_proba = y_test_proba.detach().cpu().numpy()\n",
    "y_test_proba = pd.DataFrame(y_test_proba, columns=['StartHesitation', 'Turn', 'Walking'])"
   ]
  },
  {
   "cell_type": "code",
   "execution_count": 161,
   "metadata": {
    "execution": {
     "iopub.execute_input": "2023-04-17T02:10:40.146143Z",
     "iopub.status.busy": "2023-04-17T02:10:40.145671Z",
     "iopub.status.idle": "2023-04-17T02:10:40.153712Z",
     "shell.execute_reply": "2023-04-17T02:10:40.152107Z",
     "shell.execute_reply.started": "2023-04-17T02:10:40.146101Z"
    }
   },
   "outputs": [],
   "source": [
    "df_subject.reset_index(drop=True, inplace=True)\n",
    "df_time.reset_index(drop=True, inplace=True)\n",
    "\n",
    "df_time = df_time.astype(str)"
   ]
  },
  {
   "cell_type": "code",
   "execution_count": 163,
   "metadata": {
    "execution": {
     "iopub.execute_input": "2023-04-17T02:10:45.633625Z",
     "iopub.status.busy": "2023-04-17T02:10:45.633165Z",
     "iopub.status.idle": "2023-04-17T02:10:45.732921Z",
     "shell.execute_reply": "2023-04-17T02:10:45.731848Z",
     "shell.execute_reply.started": "2023-04-17T02:10:45.633583Z"
    }
   },
   "outputs": [],
   "source": [
    "Id = df_subject.Subject.str.cat(df_time.Time, sep='_')\n",
    "y_test_proba.insert(0, 'Id', list(Id.values))\n",
    "\n",
    "df_submission = y_test_proba\n",
    "\n",
    "df_submission.to_csv('submission.csv', index=False)"
   ]
  },
  {
   "cell_type": "code",
   "execution_count": null,
   "metadata": {},
   "outputs": [],
   "source": []
  }
 ],
 "metadata": {
  "kernelspec": {
   "display_name": "Python 3",
   "language": "python",
   "name": "python3"
  },
  "language_info": {
   "codemirror_mode": {
    "name": "ipython",
    "version": 3
   },
   "file_extension": ".py",
   "mimetype": "text/x-python",
   "name": "python",
   "nbconvert_exporter": "python",
   "pygments_lexer": "ipython3",
   "version": "3.9.16"
  }
 },
 "nbformat": 4,
 "nbformat_minor": 4
}
