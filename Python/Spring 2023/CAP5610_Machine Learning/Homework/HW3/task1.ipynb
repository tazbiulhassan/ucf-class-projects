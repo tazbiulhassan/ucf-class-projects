{
 "cells": [
  {
   "cell_type": "markdown",
   "metadata": {},
   "source": [
    "# Import Packages"
   ]
  },
  {
   "cell_type": "code",
   "execution_count": 1,
   "metadata": {},
   "outputs": [],
   "source": [
    "import pandas as pd\n",
    "import numpy as np\n",
    "import random\n",
    "\n",
    "from scipy import spatial\n",
    "from scipy.spatial.distance import cdist\n",
    "\n",
    "from sklearn.metrics import accuracy_score\n",
    "\n",
    "import matplotlib.pyplot as plt\n",
    "import seaborn as sns"
   ]
  },
  {
   "cell_type": "markdown",
   "metadata": {},
   "source": [
    "# Load Data"
   ]
  },
  {
   "cell_type": "code",
   "execution_count": 2,
   "metadata": {},
   "outputs": [
    {
     "name": "stdout",
     "output_type": "stream",
     "text": [
      "(10000, 784)\n"
     ]
    },
    {
     "data": {
      "text/html": [
       "<div>\n",
       "<style scoped>\n",
       "    .dataframe tbody tr th:only-of-type {\n",
       "        vertical-align: middle;\n",
       "    }\n",
       "\n",
       "    .dataframe tbody tr th {\n",
       "        vertical-align: top;\n",
       "    }\n",
       "\n",
       "    .dataframe thead th {\n",
       "        text-align: right;\n",
       "    }\n",
       "</style>\n",
       "<table border=\"1\" class=\"dataframe\">\n",
       "  <thead>\n",
       "    <tr style=\"text-align: right;\">\n",
       "      <th></th>\n",
       "      <th>0</th>\n",
       "      <th>1</th>\n",
       "      <th>2</th>\n",
       "      <th>3</th>\n",
       "      <th>4</th>\n",
       "      <th>5</th>\n",
       "      <th>6</th>\n",
       "      <th>7</th>\n",
       "      <th>8</th>\n",
       "      <th>9</th>\n",
       "      <th>...</th>\n",
       "      <th>774</th>\n",
       "      <th>775</th>\n",
       "      <th>776</th>\n",
       "      <th>777</th>\n",
       "      <th>778</th>\n",
       "      <th>779</th>\n",
       "      <th>780</th>\n",
       "      <th>781</th>\n",
       "      <th>782</th>\n",
       "      <th>783</th>\n",
       "    </tr>\n",
       "  </thead>\n",
       "  <tbody>\n",
       "    <tr>\n",
       "      <th>0</th>\n",
       "      <td>0</td>\n",
       "      <td>0</td>\n",
       "      <td>0</td>\n",
       "      <td>0</td>\n",
       "      <td>0</td>\n",
       "      <td>0</td>\n",
       "      <td>0</td>\n",
       "      <td>0</td>\n",
       "      <td>0</td>\n",
       "      <td>0</td>\n",
       "      <td>...</td>\n",
       "      <td>0</td>\n",
       "      <td>0</td>\n",
       "      <td>0</td>\n",
       "      <td>0</td>\n",
       "      <td>0</td>\n",
       "      <td>0</td>\n",
       "      <td>0</td>\n",
       "      <td>0</td>\n",
       "      <td>0</td>\n",
       "      <td>0</td>\n",
       "    </tr>\n",
       "    <tr>\n",
       "      <th>1</th>\n",
       "      <td>0</td>\n",
       "      <td>0</td>\n",
       "      <td>0</td>\n",
       "      <td>0</td>\n",
       "      <td>0</td>\n",
       "      <td>0</td>\n",
       "      <td>0</td>\n",
       "      <td>0</td>\n",
       "      <td>0</td>\n",
       "      <td>0</td>\n",
       "      <td>...</td>\n",
       "      <td>0</td>\n",
       "      <td>0</td>\n",
       "      <td>0</td>\n",
       "      <td>0</td>\n",
       "      <td>0</td>\n",
       "      <td>0</td>\n",
       "      <td>0</td>\n",
       "      <td>0</td>\n",
       "      <td>0</td>\n",
       "      <td>0</td>\n",
       "    </tr>\n",
       "    <tr>\n",
       "      <th>2</th>\n",
       "      <td>0</td>\n",
       "      <td>0</td>\n",
       "      <td>0</td>\n",
       "      <td>0</td>\n",
       "      <td>0</td>\n",
       "      <td>0</td>\n",
       "      <td>0</td>\n",
       "      <td>0</td>\n",
       "      <td>0</td>\n",
       "      <td>0</td>\n",
       "      <td>...</td>\n",
       "      <td>0</td>\n",
       "      <td>0</td>\n",
       "      <td>0</td>\n",
       "      <td>0</td>\n",
       "      <td>0</td>\n",
       "      <td>0</td>\n",
       "      <td>0</td>\n",
       "      <td>0</td>\n",
       "      <td>0</td>\n",
       "      <td>0</td>\n",
       "    </tr>\n",
       "    <tr>\n",
       "      <th>3</th>\n",
       "      <td>0</td>\n",
       "      <td>0</td>\n",
       "      <td>0</td>\n",
       "      <td>0</td>\n",
       "      <td>0</td>\n",
       "      <td>0</td>\n",
       "      <td>0</td>\n",
       "      <td>0</td>\n",
       "      <td>0</td>\n",
       "      <td>0</td>\n",
       "      <td>...</td>\n",
       "      <td>0</td>\n",
       "      <td>0</td>\n",
       "      <td>0</td>\n",
       "      <td>0</td>\n",
       "      <td>0</td>\n",
       "      <td>0</td>\n",
       "      <td>0</td>\n",
       "      <td>0</td>\n",
       "      <td>0</td>\n",
       "      <td>0</td>\n",
       "    </tr>\n",
       "    <tr>\n",
       "      <th>4</th>\n",
       "      <td>0</td>\n",
       "      <td>0</td>\n",
       "      <td>0</td>\n",
       "      <td>0</td>\n",
       "      <td>0</td>\n",
       "      <td>0</td>\n",
       "      <td>0</td>\n",
       "      <td>0</td>\n",
       "      <td>0</td>\n",
       "      <td>0</td>\n",
       "      <td>...</td>\n",
       "      <td>0</td>\n",
       "      <td>0</td>\n",
       "      <td>0</td>\n",
       "      <td>0</td>\n",
       "      <td>0</td>\n",
       "      <td>0</td>\n",
       "      <td>0</td>\n",
       "      <td>0</td>\n",
       "      <td>0</td>\n",
       "      <td>0</td>\n",
       "    </tr>\n",
       "  </tbody>\n",
       "</table>\n",
       "<p>5 rows × 784 columns</p>\n",
       "</div>"
      ],
      "text/plain": [
       "   0    1    2    3    4    5    6    7    8    9    ...  774  775  776  777  \\\n",
       "0    0    0    0    0    0    0    0    0    0    0  ...    0    0    0    0   \n",
       "1    0    0    0    0    0    0    0    0    0    0  ...    0    0    0    0   \n",
       "2    0    0    0    0    0    0    0    0    0    0  ...    0    0    0    0   \n",
       "3    0    0    0    0    0    0    0    0    0    0  ...    0    0    0    0   \n",
       "4    0    0    0    0    0    0    0    0    0    0  ...    0    0    0    0   \n",
       "\n",
       "   778  779  780  781  782  783  \n",
       "0    0    0    0    0    0    0  \n",
       "1    0    0    0    0    0    0  \n",
       "2    0    0    0    0    0    0  \n",
       "3    0    0    0    0    0    0  \n",
       "4    0    0    0    0    0    0  \n",
       "\n",
       "[5 rows x 784 columns]"
      ]
     },
     "execution_count": 2,
     "metadata": {},
     "output_type": "execute_result"
    }
   ],
   "source": [
    "df = pd.read_csv('../data/task1/data.csv', header=None)\n",
    "\n",
    "print(df.shape)\n",
    "df.head()"
   ]
  },
  {
   "cell_type": "code",
   "execution_count": 3,
   "metadata": {},
   "outputs": [
    {
     "name": "stdout",
     "output_type": "stream",
     "text": [
      "(10000, 1)\n"
     ]
    },
    {
     "data": {
      "text/html": [
       "<div>\n",
       "<style scoped>\n",
       "    .dataframe tbody tr th:only-of-type {\n",
       "        vertical-align: middle;\n",
       "    }\n",
       "\n",
       "    .dataframe tbody tr th {\n",
       "        vertical-align: top;\n",
       "    }\n",
       "\n",
       "    .dataframe thead th {\n",
       "        text-align: right;\n",
       "    }\n",
       "</style>\n",
       "<table border=\"1\" class=\"dataframe\">\n",
       "  <thead>\n",
       "    <tr style=\"text-align: right;\">\n",
       "      <th></th>\n",
       "      <th>0</th>\n",
       "    </tr>\n",
       "  </thead>\n",
       "  <tbody>\n",
       "    <tr>\n",
       "      <th>0</th>\n",
       "      <td>7</td>\n",
       "    </tr>\n",
       "    <tr>\n",
       "      <th>1</th>\n",
       "      <td>2</td>\n",
       "    </tr>\n",
       "    <tr>\n",
       "      <th>2</th>\n",
       "      <td>1</td>\n",
       "    </tr>\n",
       "    <tr>\n",
       "      <th>3</th>\n",
       "      <td>0</td>\n",
       "    </tr>\n",
       "    <tr>\n",
       "      <th>4</th>\n",
       "      <td>4</td>\n",
       "    </tr>\n",
       "  </tbody>\n",
       "</table>\n",
       "</div>"
      ],
      "text/plain": [
       "   0\n",
       "0  7\n",
       "1  2\n",
       "2  1\n",
       "3  0\n",
       "4  4"
      ]
     },
     "execution_count": 3,
     "metadata": {},
     "output_type": "execute_result"
    }
   ],
   "source": [
    "##### label data #####\n",
    "df_labels = pd.read_csv('../data/task1/label.csv', header = None)\n",
    "\n",
    "print(df_labels.shape)\n",
    "df_labels.head()"
   ]
  },
  {
   "cell_type": "markdown",
   "metadata": {},
   "source": [
    "# Analysis"
   ]
  },
  {
   "cell_type": "code",
   "execution_count": 4,
   "metadata": {
    "tags": []
   },
   "outputs": [],
   "source": [
    "##### create class for K-means clustering #####\n",
    "class KMeC:  \n",
    "    \n",
    "    def __init__(self, X, num_clusters, max_iter, tolerance, distance_type, optimize=False, check_sse_increment=False):\n",
    "        \n",
    "        self.k = num_clusters\n",
    "        self.max_iter = max_iter\n",
    "        self.optimize = optimize\n",
    "        self.tolerance = tolerance\n",
    "        self.distance_type = distance_type\n",
    "        self.num_rows, self.num_columns = X.shape\n",
    "        self.check_sse_increment = check_sse_increment\n",
    "        \n",
    "        \n",
    "    # randomly initialize and returns k centroids (shape: (k, X.shape[1]))\n",
    "    def initialize_centroids(self, X):\n",
    "        \n",
    "        centroids = np.empty([self.k, self.num_columns]) \n",
    "        centroid_indices = np.random.choice(range(self.num_rows), size=self.k, replace=False)\n",
    "        \n",
    "        for i in range(self.k):\n",
    "            centroids[i] = X.iloc[centroid_indices[i], ] \n",
    "            \n",
    "        return centroids\n",
    "    \n",
    "    \n",
    "    # calculate and returns the distance between two vectors\n",
    "    def compute_distance(self, x, centroid):\n",
    "        \n",
    "        if self.distance_type == 'euclidean':\n",
    "             distance = spatial.distance.euclidean(x, centroid)\n",
    "                \n",
    "        elif self.distance_type == 'cosine':\n",
    "            distance = 1 - spatial.distance.cosine(x, centroid)\n",
    "            \n",
    "        elif self.distance_type == 'jaccard':\n",
    "            distance = 1 - spatial.distance.jaccard(x, centroid)\n",
    "            \n",
    "        return distance\n",
    "    \n",
    "    \n",
    "    # find and returns the index of the closest centroid for a given vector i.e., 'x': row vector  \n",
    "    def closest_centroid(self, x, centroids):\n",
    "\n",
    "        distances = np.empty(self.k)\n",
    "\n",
    "        for i in range(self.k):\n",
    "            distances[i] = self.compute_distance(x, centroids[i])\n",
    "\n",
    "        return np.argmin(distances)\n",
    "    \n",
    "    \n",
    "    # returns an array of cluster indices for all the data samples\n",
    "    def create_clusters(self, centroids, X):\n",
    "\n",
    "        clusters = np.empty(self.num_rows)\n",
    "\n",
    "        for i in range(self.num_rows):\n",
    "            clusters[i] = self.closest_centroid(X.iloc[i, ], centroids)\n",
    "\n",
    "        return clusters\n",
    "    \n",
    "    \n",
    "    # computes and returns the new centroids of the clusters\n",
    "    def update_centroids(self, clusters, X):\n",
    "\n",
    "        centroids = np.empty((self.k, self.num_columns))\n",
    "\n",
    "        for i in range(self.k):\n",
    "            points = X[clusters == i]\n",
    "            centroids[i] = np.mean(points, axis=0)\n",
    "\n",
    "        return centroids\n",
    "    \n",
    "    \n",
    "    # compute SSE    \n",
    "    def calculate_sse(self, clusters, centroids, X):\n",
    "        \n",
    "        sse = 0\n",
    "        \n",
    "        for i in range(len(X)):\n",
    "            sse += np.sqrt(sum((X.iloc[i, ].to_numpy() - centroids[int(clusters[i])]) ** 2))\n",
    "        \n",
    "        return sse\n",
    "\n",
    "    \n",
    "    # fit data\n",
    "    def fit_predict(self, X):\n",
    "        \n",
    "        centroids = self.initialize_centroids(X)\n",
    "        prev_sse = float('inf')\n",
    "        iteration = 0\n",
    "        \n",
    "        for i in range(self.max_iter):  \n",
    "            iteration += 1\n",
    "            prev_centroids = centroids\n",
    "            \n",
    "            clusters = self.create_clusters(centroids, X)                   \n",
    "            centroids = self.update_centroids(clusters, X)            \n",
    "            \n",
    "            difference = centroids - prev_centroids; sse = self.calculate_sse(clusters, centroids, X)\n",
    "            \n",
    "            if self.optimize:\n",
    "                if (abs(prev_sse - sse) < self.tolerance) or (not difference.any()): break\n",
    "            \n",
    "            elif self.check_sse_increment:\n",
    "                if sse > prev_sse: \n",
    "                    print('SSE Increased')\n",
    "                    break\n",
    "            \n",
    "            else:\n",
    "                pass\n",
    "            \n",
    "            \n",
    "            prev_sse = sse\n",
    "\n",
    "        return clusters, sse, iteration"
   ]
  },
  {
   "cell_type": "markdown",
   "metadata": {},
   "source": [
    "## Q1"
   ]
  },
  {
   "cell_type": "code",
   "execution_count": 8,
   "metadata": {
    "scrolled": true,
    "tags": []
   },
   "outputs": [
    {
     "name": "stdout",
     "output_type": "stream",
     "text": [
      "Euclidean_SSE: 15663131.076743983\n",
      "Euclidean_Iteration: 100\n"
     ]
    }
   ],
   "source": [
    "##### Euclidean K-means #####\n",
    "euclidean_model = KMeC(X=df, num_clusters=10, max_iter=100, tolerance=0.005, distance_type='euclidean', optimize=False, check_sse_increment=False)\n",
    "euclidean_clusters, euclidean_sse, euclidean_iter = euclidean_model.fit_predict(X=df)\n",
    "\n",
    "print(f'Euclidean_SSE: {euclidean_sse}'); print(f'Euclidean_Iteration: {euclidean_iter}')"
   ]
  },
  {
   "cell_type": "code",
   "execution_count": 9,
   "metadata": {},
   "outputs": [
    {
     "name": "stdout",
     "output_type": "stream",
     "text": [
      "Cosine SSE: 17196240.95592378\n",
      "Euclidean_Iteration: 100\n"
     ]
    }
   ],
   "source": [
    "##### Cosine K-means #####\n",
    "cosine_model = KMeC(X=df, num_clusters=10, max_iter=100, tolerance=0.005, distance_type='cosine', optimize=False, check_sse_increment=False)\n",
    "cosine_clusters, cosine_sse, cosine_iter = cosine_model.fit_predict(X=df)\n",
    "\n",
    "print(f'Cosine SSE: {cosine_sse}'); print(f'Euclidean_Iteration: {cosine_iter}')"
   ]
  },
  {
   "cell_type": "code",
   "execution_count": 10,
   "metadata": {},
   "outputs": [
    {
     "name": "stdout",
     "output_type": "stream",
     "text": [
      "Jaccard SSE: 18375324.140570614\n",
      "Euclidean_Iteration: 100\n"
     ]
    }
   ],
   "source": [
    "##### Jaccard K-means #####\n",
    "jaccard_model = KMeC(X=df, num_clusters=10, max_iter=100, tolerance=0.005, distance_type='jaccard', optimize=False, check_sse_increment=False)\n",
    "jaccard_clusters, jaccard_sse, jaccard_iter = jaccard_model.fit_predict(X=df)\n",
    "\n",
    "print(f'Jaccard SSE: {jaccard_sse}'); print(f'Euclidean_Iteration: {jaccard_iter}')"
   ]
  },
  {
   "attachments": {},
   "cell_type": "markdown",
   "metadata": {},
   "source": [
    "## Q2"
   ]
  },
  {
   "cell_type": "code",
   "execution_count": 31,
   "metadata": {},
   "outputs": [
    {
     "name": "stdout",
     "output_type": "stream",
     "text": [
      "Euclidean Accuracy : 0.202500\n",
      "Cosine Accuracy : 0.111000\n",
      "Jaccard Accuracy : 0.098000\n"
     ]
    }
   ],
   "source": [
    "##### calculate accuracy #####\n",
    "print('Euclidean Accuracy : {0:4f}'.format(accuracy_score(df_labels.values, euclidean_clusters)))\n",
    "print('Cosine Accuracy : {0:4f}'.format(accuracy_score(df_labels.values, cosine_clusters)))\n",
    "print('Jaccard Accuracy : {0:4f}'.format(accuracy_score(df_labels.values, jaccard_clusters)))"
   ]
  },
  {
   "attachments": {},
   "cell_type": "markdown",
   "metadata": {},
   "source": [
    "## Q3"
   ]
  },
  {
   "cell_type": "code",
   "execution_count": 5,
   "metadata": {},
   "outputs": [
    {
     "name": "stdout",
     "output_type": "stream",
     "text": [
      "Euclidean_SSE: 15759870.705218125\n",
      "Euclidean_Iteration: 51\n"
     ]
    }
   ],
   "source": [
    "##### Euclidean K-means #####\n",
    "euclidean_model = KMeC(X=df, num_clusters=10, max_iter=100, tolerance=0.005, distance_type='euclidean', optimize=True, check_sse_increment=False)\n",
    "euclidean_clusters, euclidean_sse, euclidean_iter = euclidean_model.fit_predict(X=df)\n",
    "\n",
    "print(f'Euclidean_SSE: {euclidean_sse}'); print(f'Euclidean_Iteration: {euclidean_iter}')"
   ]
  },
  {
   "cell_type": "code",
   "execution_count": 6,
   "metadata": {},
   "outputs": [
    {
     "name": "stdout",
     "output_type": "stream",
     "text": [
      "Cosine SSE: 17195823.55108855\n",
      "Euclidean_Iteration: 100\n"
     ]
    }
   ],
   "source": [
    "##### Cosine K-means #####\n",
    "cosine_model = KMeC(X=df, num_clusters=10, max_iter=100, tolerance=0.005, distance_type='cosine', optimize=True, check_sse_increment=False)\n",
    "cosine_clusters, cosine_sse, cosine_iter = cosine_model.fit_predict(X=df)\n",
    "\n",
    "print(f'Cosine SSE: {cosine_sse}'); print(f'Euclidean_Iteration: {cosine_iter}')"
   ]
  },
  {
   "cell_type": "code",
   "execution_count": 7,
   "metadata": {},
   "outputs": [
    {
     "name": "stdout",
     "output_type": "stream",
     "text": [
      "Jaccard SSE: 18375324.140570614\n",
      "Euclidean_Iteration: 3\n"
     ]
    }
   ],
   "source": [
    "##### Jaccard K-means #####\n",
    "jaccard_model = KMeC(X=df, num_clusters=10, max_iter=100, tolerance=0.005, distance_type='jaccard', optimize=True, check_sse_increment=False)\n",
    "jaccard_clusters, jaccard_sse, jaccard_iter = jaccard_model.fit_predict(X=df)\n",
    "\n",
    "print(f'Jaccard SSE: {jaccard_sse}'); print(f'Euclidean_Iteration: {jaccard_iter}')"
   ]
  },
  {
   "attachments": {},
   "cell_type": "markdown",
   "metadata": {},
   "source": [
    "## Q4"
   ]
  },
  {
   "cell_type": "code",
   "execution_count": 39,
   "metadata": {},
   "outputs": [
    {
     "name": "stdout",
     "output_type": "stream",
     "text": [
      "SSE Increased\n",
      "Euclidean_SSE: 15634472.310274852\n",
      "Euclidean_Iteration: 65\n"
     ]
    }
   ],
   "source": [
    "##### Euclidean K-means #####\n",
    "euclidean_model = KMeC(X=df, num_clusters=10, max_iter=100, tolerance=0.005, distance_type='euclidean', optimize=False, check_sse_increment=True)\n",
    "euclidean_clusters, euclidean_sse, euclidean_iter = euclidean_model.fit_predict(X=df)\n",
    "\n",
    "print(f'Euclidean_SSE: {euclidean_sse}'); print(f'Euclidean_Iteration: {euclidean_iter}')"
   ]
  },
  {
   "cell_type": "code",
   "execution_count": 40,
   "metadata": {},
   "outputs": [
    {
     "name": "stdout",
     "output_type": "stream",
     "text": [
      "SSE Increased\n",
      "Cosine SSE: 17499729.31613196\n",
      "Euclidean_Iteration: 4\n"
     ]
    }
   ],
   "source": [
    "##### Cosine K-means #####\n",
    "cosine_model = KMeC(X=df, num_clusters=10, max_iter=100, tolerance=0.005, distance_type='cosine', optimize=False, check_sse_increment=True)\n",
    "cosine_clusters, cosine_sse, cosine_iter = cosine_model.fit_predict(X=df)\n",
    "\n",
    "print(f'Cosine SSE: {cosine_sse}'); print(f'Euclidean_Iteration: {cosine_iter}')"
   ]
  },
  {
   "cell_type": "code",
   "execution_count": 41,
   "metadata": {},
   "outputs": [
    {
     "name": "stdout",
     "output_type": "stream",
     "text": [
      "SSE Increased\n",
      "Jaccard SSE: 18375324.140570614\n",
      "Euclidean_Iteration: 2\n"
     ]
    }
   ],
   "source": [
    "##### Jaccard K-means #####\n",
    "jaccard_model = KMeC(X=df, num_clusters=10, max_iter=100, tolerance=0.005, distance_type='jaccard', optimize=False, check_sse_increment=True)\n",
    "jaccard_clusters, jaccard_sse, jaccard_iter = jaccard_model.fit_predict(X=df)\n",
    "\n",
    "print(f'Jaccard SSE: {jaccard_sse}'); print(f'Euclidean_Iteration: {jaccard_iter}')"
   ]
  },
  {
   "cell_type": "code",
   "execution_count": null,
   "metadata": {},
   "outputs": [],
   "source": []
  }
 ],
 "metadata": {
  "interpreter": {
   "hash": "df761406ab9d6af382aa5c980eadd868c224be0978861d5303a2fa87376f8666"
  },
  "kernelspec": {
   "display_name": "Python 3 (ipykernel)",
   "language": "python",
   "name": "python3"
  },
  "language_info": {
   "codemirror_mode": {
    "name": "ipython",
    "version": 3
   },
   "file_extension": ".py",
   "mimetype": "text/x-python",
   "name": "python",
   "nbconvert_exporter": "python",
   "pygments_lexer": "ipython3",
   "version": "3.10.10"
  }
 },
 "nbformat": 4,
 "nbformat_minor": 4
}
